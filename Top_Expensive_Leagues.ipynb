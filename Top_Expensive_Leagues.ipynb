{
 "cells": [
  {
   "cell_type": "markdown",
   "id": "3449a803-cf14-4bf9-8221-a5eba36293aa",
   "metadata": {},
   "source": [
    "# Top_Expensive_Leagues"
   ]
  },
  {
   "cell_type": "code",
   "execution_count": null,
   "id": "b51e6319-5740-4645-834c-ba58b7410aa9",
   "metadata": {},
   "outputs": [],
   "source": []
  },
  {
   "cell_type": "code",
   "execution_count": 5,
   "id": "758f6f73-9f04-4c8c-a394-43484bfadbef",
   "metadata": {},
   "outputs": [],
   "source": [
    "import pandas as pd\n",
    "import numpy as np\n",
    "import matplotlib.pyplot as plt              \n",
    "import seaborn as sns"
   ]
  },
  {
   "cell_type": "code",
   "execution_count": null,
   "id": "a7946ac9-da3c-4bc9-a38e-a8b7215591c1",
   "metadata": {},
   "outputs": [],
   "source": []
  },
  {
   "cell_type": "code",
   "execution_count": 7,
   "id": "caf76cb6-306d-46a7-9962-626c34205180",
   "metadata": {},
   "outputs": [],
   "source": [
    "League = pd.read_csv('top_expensive_leagues.csv')"
   ]
  },
  {
   "cell_type": "code",
   "execution_count": null,
   "id": "798672c2-7d78-4050-8a20-33eb19ec3dbb",
   "metadata": {},
   "outputs": [],
   "source": []
  },
  {
   "cell_type": "code",
   "execution_count": 9,
   "id": "3fab18c1-72e6-473a-948d-0dd6e37be2ab",
   "metadata": {},
   "outputs": [
    {
     "data": {
      "text/html": [
       "<div>\n",
       "<style scoped>\n",
       "    .dataframe tbody tr th:only-of-type {\n",
       "        vertical-align: middle;\n",
       "    }\n",
       "\n",
       "    .dataframe tbody tr th {\n",
       "        vertical-align: top;\n",
       "    }\n",
       "\n",
       "    .dataframe thead th {\n",
       "        text-align: right;\n",
       "    }\n",
       "</style>\n",
       "<table border=\"1\" class=\"dataframe\">\n",
       "  <thead>\n",
       "    <tr style=\"text-align: right;\">\n",
       "      <th></th>\n",
       "      <th>League ID</th>\n",
       "      <th>League Name</th>\n",
       "      <th>Country</th>\n",
       "      <th>Sport</th>\n",
       "      <th>Revenue (USD)</th>\n",
       "      <th>Average Player Salary (USD)</th>\n",
       "      <th>Top Team</th>\n",
       "      <th>Total Teams</th>\n",
       "      <th>Founded Year</th>\n",
       "      <th>Viewership</th>\n",
       "    </tr>\n",
       "  </thead>\n",
       "  <tbody>\n",
       "    <tr>\n",
       "      <th>0</th>\n",
       "      <td>L001</td>\n",
       "      <td>Premier League</td>\n",
       "      <td>England</td>\n",
       "      <td>Football</td>\n",
       "      <td>5.275330e+09</td>\n",
       "      <td>12080000.0</td>\n",
       "      <td>Liverpool</td>\n",
       "      <td>16</td>\n",
       "      <td>1886</td>\n",
       "      <td>485.90</td>\n",
       "    </tr>\n",
       "    <tr>\n",
       "      <th>1</th>\n",
       "      <td>L002</td>\n",
       "      <td>Serie A</td>\n",
       "      <td>India</td>\n",
       "      <td>American Football</td>\n",
       "      <td>7.088640e+09</td>\n",
       "      <td>6730000.0</td>\n",
       "      <td>Inter Milan</td>\n",
       "      <td>13</td>\n",
       "      <td>1977</td>\n",
       "      <td>135.01</td>\n",
       "    </tr>\n",
       "    <tr>\n",
       "      <th>2</th>\n",
       "      <td>L003</td>\n",
       "      <td>IPL</td>\n",
       "      <td>England</td>\n",
       "      <td>American Football</td>\n",
       "      <td>7.930520e+09</td>\n",
       "      <td>14360000.0</td>\n",
       "      <td>Chennai Super Kings</td>\n",
       "      <td>13</td>\n",
       "      <td>1979</td>\n",
       "      <td>157.49</td>\n",
       "    </tr>\n",
       "    <tr>\n",
       "      <th>3</th>\n",
       "      <td>L004</td>\n",
       "      <td>La Liga</td>\n",
       "      <td>Spain</td>\n",
       "      <td>American Football</td>\n",
       "      <td>4.972890e+09</td>\n",
       "      <td>13720000.0</td>\n",
       "      <td>Atletico Madrid</td>\n",
       "      <td>22</td>\n",
       "      <td>1999</td>\n",
       "      <td>245.71</td>\n",
       "    </tr>\n",
       "    <tr>\n",
       "      <th>4</th>\n",
       "      <td>L005</td>\n",
       "      <td>Serie A</td>\n",
       "      <td>Italy</td>\n",
       "      <td>Basketball</td>\n",
       "      <td>6.265740e+09</td>\n",
       "      <td>7450000.0</td>\n",
       "      <td>Juventus</td>\n",
       "      <td>16</td>\n",
       "      <td>1963</td>\n",
       "      <td>52.83</td>\n",
       "    </tr>\n",
       "  </tbody>\n",
       "</table>\n",
       "</div>"
      ],
      "text/plain": [
       "  League ID     League Name  Country              Sport  Revenue (USD)  \\\n",
       "0      L001  Premier League  England           Football   5.275330e+09   \n",
       "1      L002         Serie A    India  American Football   7.088640e+09   \n",
       "2      L003             IPL  England  American Football   7.930520e+09   \n",
       "3      L004         La Liga    Spain  American Football   4.972890e+09   \n",
       "4      L005         Serie A    Italy         Basketball   6.265740e+09   \n",
       "\n",
       "   Average Player Salary (USD)             Top Team  Total Teams  \\\n",
       "0                   12080000.0            Liverpool           16   \n",
       "1                    6730000.0          Inter Milan           13   \n",
       "2                   14360000.0  Chennai Super Kings           13   \n",
       "3                   13720000.0      Atletico Madrid           22   \n",
       "4                    7450000.0             Juventus           16   \n",
       "\n",
       "   Founded Year  Viewership  \n",
       "0          1886      485.90  \n",
       "1          1977      135.01  \n",
       "2          1979      157.49  \n",
       "3          1999      245.71  \n",
       "4          1963       52.83  "
      ]
     },
     "execution_count": 9,
     "metadata": {},
     "output_type": "execute_result"
    }
   ],
   "source": [
    "League.head()"
   ]
  },
  {
   "cell_type": "code",
   "execution_count": null,
   "id": "3bd7c9c4-8711-4ccc-a17d-efd73245cb08",
   "metadata": {},
   "outputs": [],
   "source": []
  },
  {
   "cell_type": "code",
   "execution_count": 11,
   "id": "4341a4f4-9ac8-434b-8d86-39cb0324b225",
   "metadata": {},
   "outputs": [
    {
     "data": {
      "text/html": [
       "<div>\n",
       "<style scoped>\n",
       "    .dataframe tbody tr th:only-of-type {\n",
       "        vertical-align: middle;\n",
       "    }\n",
       "\n",
       "    .dataframe tbody tr th {\n",
       "        vertical-align: top;\n",
       "    }\n",
       "\n",
       "    .dataframe thead th {\n",
       "        text-align: right;\n",
       "    }\n",
       "</style>\n",
       "<table border=\"1\" class=\"dataframe\">\n",
       "  <thead>\n",
       "    <tr style=\"text-align: right;\">\n",
       "      <th></th>\n",
       "      <th>League ID</th>\n",
       "      <th>League Name</th>\n",
       "      <th>Country</th>\n",
       "      <th>Sport</th>\n",
       "      <th>Revenue (USD)</th>\n",
       "      <th>Average Player Salary (USD)</th>\n",
       "      <th>Top Team</th>\n",
       "      <th>Total Teams</th>\n",
       "      <th>Founded Year</th>\n",
       "      <th>Viewership</th>\n",
       "    </tr>\n",
       "  </thead>\n",
       "  <tbody>\n",
       "    <tr>\n",
       "      <th>695</th>\n",
       "      <td>L696</td>\n",
       "      <td>Bundesliga</td>\n",
       "      <td>France</td>\n",
       "      <td>Football</td>\n",
       "      <td>2.280400e+09</td>\n",
       "      <td>2970000.0</td>\n",
       "      <td>RB Leipzig</td>\n",
       "      <td>25</td>\n",
       "      <td>1914</td>\n",
       "      <td>159.88</td>\n",
       "    </tr>\n",
       "    <tr>\n",
       "      <th>696</th>\n",
       "      <td>L697</td>\n",
       "      <td>Ligue 1</td>\n",
       "      <td>USA</td>\n",
       "      <td>Cricket</td>\n",
       "      <td>6.945200e+08</td>\n",
       "      <td>12130000.0</td>\n",
       "      <td>Lyon</td>\n",
       "      <td>20</td>\n",
       "      <td>2009</td>\n",
       "      <td>194.31</td>\n",
       "    </tr>\n",
       "    <tr>\n",
       "      <th>697</th>\n",
       "      <td>L698</td>\n",
       "      <td>Premier League</td>\n",
       "      <td>USA</td>\n",
       "      <td>Football</td>\n",
       "      <td>5.251210e+09</td>\n",
       "      <td>4780000.0</td>\n",
       "      <td>Manchester United</td>\n",
       "      <td>29</td>\n",
       "      <td>2004</td>\n",
       "      <td>79.36</td>\n",
       "    </tr>\n",
       "    <tr>\n",
       "      <th>698</th>\n",
       "      <td>L699</td>\n",
       "      <td>NBA</td>\n",
       "      <td>Germany</td>\n",
       "      <td>American Football</td>\n",
       "      <td>5.898850e+09</td>\n",
       "      <td>11020000.0</td>\n",
       "      <td>Miami Heat</td>\n",
       "      <td>22</td>\n",
       "      <td>1897</td>\n",
       "      <td>238.50</td>\n",
       "    </tr>\n",
       "    <tr>\n",
       "      <th>699</th>\n",
       "      <td>L700</td>\n",
       "      <td>La Liga</td>\n",
       "      <td>India</td>\n",
       "      <td>Football</td>\n",
       "      <td>2.865280e+09</td>\n",
       "      <td>2110000.0</td>\n",
       "      <td>Barcelona</td>\n",
       "      <td>17</td>\n",
       "      <td>1920</td>\n",
       "      <td>322.22</td>\n",
       "    </tr>\n",
       "  </tbody>\n",
       "</table>\n",
       "</div>"
      ],
      "text/plain": [
       "    League ID     League Name  Country              Sport  Revenue (USD)  \\\n",
       "695      L696      Bundesliga   France           Football   2.280400e+09   \n",
       "696      L697         Ligue 1      USA            Cricket   6.945200e+08   \n",
       "697      L698  Premier League      USA           Football   5.251210e+09   \n",
       "698      L699             NBA  Germany  American Football   5.898850e+09   \n",
       "699      L700         La Liga    India           Football   2.865280e+09   \n",
       "\n",
       "     Average Player Salary (USD)           Top Team  Total Teams  \\\n",
       "695                    2970000.0         RB Leipzig           25   \n",
       "696                   12130000.0               Lyon           20   \n",
       "697                    4780000.0  Manchester United           29   \n",
       "698                   11020000.0         Miami Heat           22   \n",
       "699                    2110000.0          Barcelona           17   \n",
       "\n",
       "     Founded Year  Viewership  \n",
       "695          1914      159.88  \n",
       "696          2009      194.31  \n",
       "697          2004       79.36  \n",
       "698          1897      238.50  \n",
       "699          1920      322.22  "
      ]
     },
     "execution_count": 11,
     "metadata": {},
     "output_type": "execute_result"
    }
   ],
   "source": [
    "League.tail()"
   ]
  },
  {
   "cell_type": "code",
   "execution_count": null,
   "id": "253ba3c7-f7ed-42f4-9335-fa74bfde3d66",
   "metadata": {},
   "outputs": [],
   "source": []
  },
  {
   "cell_type": "code",
   "execution_count": 13,
   "id": "5e0003a3-dd62-4d5f-8cc1-3edc232f4f65",
   "metadata": {},
   "outputs": [
    {
     "name": "stdout",
     "output_type": "stream",
     "text": [
      "<class 'pandas.core.frame.DataFrame'>\n",
      "RangeIndex: 700 entries, 0 to 699\n",
      "Data columns (total 10 columns):\n",
      " #   Column                       Non-Null Count  Dtype  \n",
      "---  ------                       --------------  -----  \n",
      " 0   League ID                    700 non-null    object \n",
      " 1   League Name                  700 non-null    object \n",
      " 2   Country                      700 non-null    object \n",
      " 3   Sport                        700 non-null    object \n",
      " 4   Revenue (USD)                700 non-null    float64\n",
      " 5   Average Player Salary (USD)  700 non-null    float64\n",
      " 6   Top Team                     700 non-null    object \n",
      " 7   Total Teams                  700 non-null    int64  \n",
      " 8   Founded Year                 700 non-null    int64  \n",
      " 9   Viewership                   700 non-null    float64\n",
      "dtypes: float64(3), int64(2), object(5)\n",
      "memory usage: 54.8+ KB\n"
     ]
    }
   ],
   "source": [
    "League.info()"
   ]
  },
  {
   "cell_type": "code",
   "execution_count": null,
   "id": "b57e7e7a-c298-40c9-9949-60332c2b6b96",
   "metadata": {},
   "outputs": [],
   "source": []
  },
  {
   "cell_type": "code",
   "execution_count": 15,
   "id": "f115b889-e88e-4402-b011-f7ea03931a80",
   "metadata": {},
   "outputs": [
    {
     "data": {
      "text/html": [
       "<div>\n",
       "<style scoped>\n",
       "    .dataframe tbody tr th:only-of-type {\n",
       "        vertical-align: middle;\n",
       "    }\n",
       "\n",
       "    .dataframe tbody tr th {\n",
       "        vertical-align: top;\n",
       "    }\n",
       "\n",
       "    .dataframe thead th {\n",
       "        text-align: right;\n",
       "    }\n",
       "</style>\n",
       "<table border=\"1\" class=\"dataframe\">\n",
       "  <thead>\n",
       "    <tr style=\"text-align: right;\">\n",
       "      <th></th>\n",
       "      <th>Revenue (USD)</th>\n",
       "      <th>Average Player Salary (USD)</th>\n",
       "      <th>Total Teams</th>\n",
       "      <th>Founded Year</th>\n",
       "      <th>Viewership</th>\n",
       "    </tr>\n",
       "  </thead>\n",
       "  <tbody>\n",
       "    <tr>\n",
       "      <th>count</th>\n",
       "      <td>7.000000e+02</td>\n",
       "      <td>7.000000e+02</td>\n",
       "      <td>700.000000</td>\n",
       "      <td>700.000000</td>\n",
       "      <td>700.000000</td>\n",
       "    </tr>\n",
       "    <tr>\n",
       "      <th>mean</th>\n",
       "      <td>4.280496e+09</td>\n",
       "      <td>7.900443e+06</td>\n",
       "      <td>21.184286</td>\n",
       "      <td>1953.061429</td>\n",
       "      <td>255.944400</td>\n",
       "    </tr>\n",
       "    <tr>\n",
       "      <th>std</th>\n",
       "      <td>2.162867e+09</td>\n",
       "      <td>4.100048e+06</td>\n",
       "      <td>6.676591</td>\n",
       "      <td>40.956733</td>\n",
       "      <td>140.300158</td>\n",
       "    </tr>\n",
       "    <tr>\n",
       "      <th>min</th>\n",
       "      <td>5.054000e+08</td>\n",
       "      <td>1.010000e+06</td>\n",
       "      <td>10.000000</td>\n",
       "      <td>1880.000000</td>\n",
       "      <td>2.280000</td>\n",
       "    </tr>\n",
       "    <tr>\n",
       "      <th>25%</th>\n",
       "      <td>2.522775e+09</td>\n",
       "      <td>4.180000e+06</td>\n",
       "      <td>15.000000</td>\n",
       "      <td>1917.750000</td>\n",
       "      <td>135.077500</td>\n",
       "    </tr>\n",
       "    <tr>\n",
       "      <th>50%</th>\n",
       "      <td>4.306905e+09</td>\n",
       "      <td>7.835000e+06</td>\n",
       "      <td>21.000000</td>\n",
       "      <td>1953.500000</td>\n",
       "      <td>250.860000</td>\n",
       "    </tr>\n",
       "    <tr>\n",
       "      <th>75%</th>\n",
       "      <td>6.112678e+09</td>\n",
       "      <td>1.148500e+07</td>\n",
       "      <td>27.000000</td>\n",
       "      <td>1989.250000</td>\n",
       "      <td>376.512500</td>\n",
       "    </tr>\n",
       "    <tr>\n",
       "      <th>max</th>\n",
       "      <td>7.997000e+09</td>\n",
       "      <td>1.496000e+07</td>\n",
       "      <td>32.000000</td>\n",
       "      <td>2023.000000</td>\n",
       "      <td>499.950000</td>\n",
       "    </tr>\n",
       "  </tbody>\n",
       "</table>\n",
       "</div>"
      ],
      "text/plain": [
       "       Revenue (USD)  Average Player Salary (USD)  Total Teams  Founded Year  \\\n",
       "count   7.000000e+02                 7.000000e+02   700.000000    700.000000   \n",
       "mean    4.280496e+09                 7.900443e+06    21.184286   1953.061429   \n",
       "std     2.162867e+09                 4.100048e+06     6.676591     40.956733   \n",
       "min     5.054000e+08                 1.010000e+06    10.000000   1880.000000   \n",
       "25%     2.522775e+09                 4.180000e+06    15.000000   1917.750000   \n",
       "50%     4.306905e+09                 7.835000e+06    21.000000   1953.500000   \n",
       "75%     6.112678e+09                 1.148500e+07    27.000000   1989.250000   \n",
       "max     7.997000e+09                 1.496000e+07    32.000000   2023.000000   \n",
       "\n",
       "       Viewership  \n",
       "count  700.000000  \n",
       "mean   255.944400  \n",
       "std    140.300158  \n",
       "min      2.280000  \n",
       "25%    135.077500  \n",
       "50%    250.860000  \n",
       "75%    376.512500  \n",
       "max    499.950000  "
      ]
     },
     "execution_count": 15,
     "metadata": {},
     "output_type": "execute_result"
    }
   ],
   "source": [
    "League.describe()"
   ]
  },
  {
   "cell_type": "code",
   "execution_count": null,
   "id": "3841b130-d18b-45e7-8591-ef2bf7879a4a",
   "metadata": {},
   "outputs": [],
   "source": []
  },
  {
   "cell_type": "code",
   "execution_count": 19,
   "id": "f807aa20-0bb0-40b6-8c29-6d82bc6a8972",
   "metadata": {},
   "outputs": [
    {
     "data": {
      "text/plain": [
       "League ID                      False\n",
       "League Name                    False\n",
       "Country                        False\n",
       "Sport                          False\n",
       "Revenue (USD)                  False\n",
       "Average Player Salary (USD)    False\n",
       "Top Team                       False\n",
       "Total Teams                    False\n",
       "Founded Year                   False\n",
       "Viewership                     False\n",
       "dtype: bool"
      ]
     },
     "execution_count": 19,
     "metadata": {},
     "output_type": "execute_result"
    }
   ],
   "source": [
    "League.isna().any()"
   ]
  },
  {
   "cell_type": "code",
   "execution_count": null,
   "id": "9c11f4dd-fe5b-402b-b2bb-7e6a04e76662",
   "metadata": {},
   "outputs": [],
   "source": []
  },
  {
   "cell_type": "code",
   "execution_count": 21,
   "id": "b09ab67b-595f-4728-b4cf-a9a5cd4dc7b6",
   "metadata": {},
   "outputs": [
    {
     "data": {
      "text/plain": [
       "League ID                      0\n",
       "League Name                    0\n",
       "Country                        0\n",
       "Sport                          0\n",
       "Revenue (USD)                  0\n",
       "Average Player Salary (USD)    0\n",
       "Top Team                       0\n",
       "Total Teams                    0\n",
       "Founded Year                   0\n",
       "Viewership                     0\n",
       "dtype: int64"
      ]
     },
     "execution_count": 21,
     "metadata": {},
     "output_type": "execute_result"
    }
   ],
   "source": [
    "League.isna().sum()"
   ]
  },
  {
   "cell_type": "code",
   "execution_count": null,
   "id": "86a45588-9ce2-4540-b3bc-216532c94d9b",
   "metadata": {},
   "outputs": [],
   "source": []
  },
  {
   "cell_type": "markdown",
   "id": "46b9d45a-25b0-42e4-8f16-bd7a46ba1d24",
   "metadata": {},
   "source": [
    "League.shape"
   ]
  },
  {
   "cell_type": "code",
   "execution_count": null,
   "id": "97b7b346-ba3e-4b9c-8077-44c2e415d39d",
   "metadata": {},
   "outputs": [],
   "source": []
  },
  {
   "cell_type": "code",
   "execution_count": 33,
   "id": "5d7e2247-0a1a-4e0d-8a0a-db1763b3f0d7",
   "metadata": {},
   "outputs": [
    {
     "data": {
      "text/plain": [
       "Index(['League ID', 'League Name', 'Country', 'Sport', 'Revenue (USD)',\n",
       "       'Average Player Salary (USD)', 'Top Team', 'Total Teams',\n",
       "       'Founded Year', 'Viewership'],\n",
       "      dtype='object')"
      ]
     },
     "execution_count": 33,
     "metadata": {},
     "output_type": "execute_result"
    }
   ],
   "source": [
    "League.columns"
   ]
  },
  {
   "cell_type": "code",
   "execution_count": null,
   "id": "4be81152-620a-4b84-9720-745eb81ec8f4",
   "metadata": {},
   "outputs": [],
   "source": []
  },
  {
   "cell_type": "code",
   "execution_count": null,
   "id": "1c2cfc6e-5a75-4614-9eec-e7b0630a8398",
   "metadata": {},
   "outputs": [],
   "source": []
  },
  {
   "cell_type": "markdown",
   "id": "6bca311d-530f-466b-8c9e-a386c58100c1",
   "metadata": {},
   "source": [
    "### Questions for Python\n",
    "1) Which league generates the highest revenue, and how does it compare with the average revenue of all leagues?\n",
    "2) What is the correlation between average player salary and revenue across different leagues?\n",
    "3) Which country has the highest number of leagues, and what is the distribution of sports across those leagues?\n",
    "4) How has the founding year of leagues influenced their viewership and revenue in modern times?\n",
    "5) What is the average viewership of leagues grouped by sport type, and which sport has the highest average viewership?"
   ]
  },
  {
   "cell_type": "code",
   "execution_count": null,
   "id": "b2b8a414-7dfe-4741-971a-4472129cc95e",
   "metadata": {},
   "outputs": [],
   "source": []
  },
  {
   "cell_type": "markdown",
   "id": "67e01161-26e7-4db9-ab8c-4066f7695bfe",
   "metadata": {},
   "source": [
    "## 1) Which league generates the highest revenue, and how does it compare with the average revenue of all leagues?"
   ]
  },
  {
   "cell_type": "code",
   "execution_count": 41,
   "id": "aed7a903-69dd-461d-8d25-60519046c635",
   "metadata": {},
   "outputs": [
    {
     "data": {
      "text/html": [
       "<div>\n",
       "<style scoped>\n",
       "    .dataframe tbody tr th:only-of-type {\n",
       "        vertical-align: middle;\n",
       "    }\n",
       "\n",
       "    .dataframe tbody tr th {\n",
       "        vertical-align: top;\n",
       "    }\n",
       "\n",
       "    .dataframe thead th {\n",
       "        text-align: right;\n",
       "    }\n",
       "</style>\n",
       "<table border=\"1\" class=\"dataframe\">\n",
       "  <thead>\n",
       "    <tr style=\"text-align: right;\">\n",
       "      <th></th>\n",
       "      <th>League ID</th>\n",
       "      <th>League Name</th>\n",
       "      <th>Country</th>\n",
       "      <th>Sport</th>\n",
       "      <th>Revenue (USD)</th>\n",
       "      <th>Average Player Salary (USD)</th>\n",
       "      <th>Top Team</th>\n",
       "      <th>Total Teams</th>\n",
       "      <th>Founded Year</th>\n",
       "      <th>Viewership</th>\n",
       "    </tr>\n",
       "  </thead>\n",
       "  <tbody>\n",
       "    <tr>\n",
       "      <th>0</th>\n",
       "      <td>L001</td>\n",
       "      <td>Premier League</td>\n",
       "      <td>England</td>\n",
       "      <td>Football</td>\n",
       "      <td>5.275330e+09</td>\n",
       "      <td>12080000.0</td>\n",
       "      <td>Liverpool</td>\n",
       "      <td>16</td>\n",
       "      <td>1886</td>\n",
       "      <td>485.90</td>\n",
       "    </tr>\n",
       "    <tr>\n",
       "      <th>1</th>\n",
       "      <td>L002</td>\n",
       "      <td>Serie A</td>\n",
       "      <td>India</td>\n",
       "      <td>American Football</td>\n",
       "      <td>7.088640e+09</td>\n",
       "      <td>6730000.0</td>\n",
       "      <td>Inter Milan</td>\n",
       "      <td>13</td>\n",
       "      <td>1977</td>\n",
       "      <td>135.01</td>\n",
       "    </tr>\n",
       "    <tr>\n",
       "      <th>2</th>\n",
       "      <td>L003</td>\n",
       "      <td>IPL</td>\n",
       "      <td>England</td>\n",
       "      <td>American Football</td>\n",
       "      <td>7.930520e+09</td>\n",
       "      <td>14360000.0</td>\n",
       "      <td>Chennai Super Kings</td>\n",
       "      <td>13</td>\n",
       "      <td>1979</td>\n",
       "      <td>157.49</td>\n",
       "    </tr>\n",
       "    <tr>\n",
       "      <th>3</th>\n",
       "      <td>L004</td>\n",
       "      <td>La Liga</td>\n",
       "      <td>Spain</td>\n",
       "      <td>American Football</td>\n",
       "      <td>4.972890e+09</td>\n",
       "      <td>13720000.0</td>\n",
       "      <td>Atletico Madrid</td>\n",
       "      <td>22</td>\n",
       "      <td>1999</td>\n",
       "      <td>245.71</td>\n",
       "    </tr>\n",
       "    <tr>\n",
       "      <th>4</th>\n",
       "      <td>L005</td>\n",
       "      <td>Serie A</td>\n",
       "      <td>Italy</td>\n",
       "      <td>Basketball</td>\n",
       "      <td>6.265740e+09</td>\n",
       "      <td>7450000.0</td>\n",
       "      <td>Juventus</td>\n",
       "      <td>16</td>\n",
       "      <td>1963</td>\n",
       "      <td>52.83</td>\n",
       "    </tr>\n",
       "  </tbody>\n",
       "</table>\n",
       "</div>"
      ],
      "text/plain": [
       "  League ID     League Name  Country              Sport  Revenue (USD)  \\\n",
       "0      L001  Premier League  England           Football   5.275330e+09   \n",
       "1      L002         Serie A    India  American Football   7.088640e+09   \n",
       "2      L003             IPL  England  American Football   7.930520e+09   \n",
       "3      L004         La Liga    Spain  American Football   4.972890e+09   \n",
       "4      L005         Serie A    Italy         Basketball   6.265740e+09   \n",
       "\n",
       "   Average Player Salary (USD)             Top Team  Total Teams  \\\n",
       "0                   12080000.0            Liverpool           16   \n",
       "1                    6730000.0          Inter Milan           13   \n",
       "2                   14360000.0  Chennai Super Kings           13   \n",
       "3                   13720000.0      Atletico Madrid           22   \n",
       "4                    7450000.0             Juventus           16   \n",
       "\n",
       "   Founded Year  Viewership  \n",
       "0          1886      485.90  \n",
       "1          1977      135.01  \n",
       "2          1979      157.49  \n",
       "3          1999      245.71  \n",
       "4          1963       52.83  "
      ]
     },
     "execution_count": 41,
     "metadata": {},
     "output_type": "execute_result"
    }
   ],
   "source": [
    "League.head()"
   ]
  },
  {
   "cell_type": "code",
   "execution_count": null,
   "id": "e85e845a-a981-4793-b257-962a7d98c513",
   "metadata": {},
   "outputs": [],
   "source": []
  },
  {
   "cell_type": "code",
   "execution_count": 55,
   "id": "117abe0e-7d4f-438f-aad1-f8aa2040f890",
   "metadata": {},
   "outputs": [],
   "source": [
    "Highest_revenue = League.loc[League[\"Revenue (USD)\"].idxmax()]"
   ]
  },
  {
   "cell_type": "code",
   "execution_count": 57,
   "id": "f136f6c9-f155-4a31-89a4-69ca729005fc",
   "metadata": {},
   "outputs": [
    {
     "data": {
      "text/plain": [
       "League ID                                     L301\n",
       "League Name                                    IPL\n",
       "Country                                      Italy\n",
       "Sport                                      Cricket\n",
       "Revenue (USD)                         7997000000.0\n",
       "Average Player Salary (USD)              5670000.0\n",
       "Top Team                       Chennai Super Kings\n",
       "Total Teams                                     20\n",
       "Founded Year                                  1947\n",
       "Viewership                                  359.82\n",
       "Name: 300, dtype: object"
      ]
     },
     "execution_count": 57,
     "metadata": {},
     "output_type": "execute_result"
    }
   ],
   "source": [
    "Highest_revenue"
   ]
  },
  {
   "cell_type": "code",
   "execution_count": null,
   "id": "03c6aa22-c3d1-4c0b-af1f-e8132b176a26",
   "metadata": {},
   "outputs": [],
   "source": []
  },
  {
   "cell_type": "code",
   "execution_count": 67,
   "id": "1f60c71c-e30d-4c49-be40-a533f3a27ab9",
   "metadata": {},
   "outputs": [],
   "source": [
    "High_value = Highest_revenue[\"Revenue (USD)\"]"
   ]
  },
  {
   "cell_type": "code",
   "execution_count": 69,
   "id": "92c45b87-628d-45c4-bc5b-35c4cd621cc4",
   "metadata": {},
   "outputs": [
    {
     "data": {
      "text/plain": [
       "7997000000.0"
      ]
     },
     "execution_count": 69,
     "metadata": {},
     "output_type": "execute_result"
    }
   ],
   "source": [
    "High_value"
   ]
  },
  {
   "cell_type": "code",
   "execution_count": null,
   "id": "bb99e97a-aabb-4511-87e6-17a1d75bbd73",
   "metadata": {},
   "outputs": [],
   "source": []
  },
  {
   "cell_type": "code",
   "execution_count": 73,
   "id": "f1acebd0-8505-4105-bc43-dbec9c3d35ae",
   "metadata": {},
   "outputs": [],
   "source": [
    "Average_revenue = League[\"Revenue (USD)\"].mean()"
   ]
  },
  {
   "cell_type": "code",
   "execution_count": 75,
   "id": "ccc56ed8-e011-49d4-b876-6d95f20406a7",
   "metadata": {},
   "outputs": [
    {
     "data": {
      "text/plain": [
       "4280496485.714286"
      ]
     },
     "execution_count": 75,
     "metadata": {},
     "output_type": "execute_result"
    }
   ],
   "source": [
    "Average_revenue"
   ]
  },
  {
   "cell_type": "code",
   "execution_count": 87,
   "id": "e4589678-fa73-4f7c-834c-44d178d1293d",
   "metadata": {},
   "outputs": [
    {
     "name": "stdout",
     "output_type": "stream",
     "text": [
      "The league with the highest revenue is:($7,997,000,000.00).\n"
     ]
    }
   ],
   "source": [
    "print(f\"The league with the highest revenue is:(${High_value:,.2f}).\")"
   ]
  },
  {
   "cell_type": "code",
   "execution_count": 85,
   "id": "9f7d542a-c8c5-4bde-bac0-12ef20f2cc0b",
   "metadata": {},
   "outputs": [
    {
     "name": "stdout",
     "output_type": "stream",
     "text": [
      "The Average revenue of all leagues is: $4,280,496,485.71.\n"
     ]
    }
   ],
   "source": [
    "print(f\"The Average revenue of all leagues is: ${Average_revenue:,.2f}.\")"
   ]
  },
  {
   "cell_type": "code",
   "execution_count": 127,
   "id": "57007cc6-1deb-48d5-ba8c-1dd27118691d",
   "metadata": {},
   "outputs": [
    {
     "data": {
      "text/plain": [
       "<Axes: >"
      ]
     },
     "execution_count": 127,
     "metadata": {},
     "output_type": "execute_result"
    },
    {
     "data": {
      "image/png": "[encoded data removed]",
      "text/plain": [
       "<Figure size 1000x500 with 1 Axes>"
      ]
     },
     "metadata": {},
     "output_type": "display_data"
    }
   ],
   "source": [
    "plt.figure(figsize = (10,5))\n",
    "sns.barplot(data=League)  \n"
   ]
  },
  {
   "cell_type": "markdown",
   "id": "16b7e638-4c2f-4426-a70c-cb04f7cf7403",
   "metadata": {},
   "source": [
    "## 2) What is the correlation between average player salary and revenue across different leagues?"
   ]
  },
  {
   "cell_type": "code",
   "execution_count": 90,
   "id": "afa91554-7013-43b8-bbd3-2195ef3fb379",
   "metadata": {},
   "outputs": [
    {
     "data": {
      "text/html": [
       "<div>\n",
       "<style scoped>\n",
       "    .dataframe tbody tr th:only-of-type {\n",
       "        vertical-align: middle;\n",
       "    }\n",
       "\n",
       "    .dataframe tbody tr th {\n",
       "        vertical-align: top;\n",
       "    }\n",
       "\n",
       "    .dataframe thead th {\n",
       "        text-align: right;\n",
       "    }\n",
       "</style>\n",
       "<table border=\"1\" class=\"dataframe\">\n",
       "  <thead>\n",
       "    <tr style=\"text-align: right;\">\n",
       "      <th></th>\n",
       "      <th>League ID</th>\n",
       "      <th>League Name</th>\n",
       "      <th>Country</th>\n",
       "      <th>Sport</th>\n",
       "      <th>Revenue (USD)</th>\n",
       "      <th>Average Player Salary (USD)</th>\n",
       "      <th>Top Team</th>\n",
       "      <th>Total Teams</th>\n",
       "      <th>Founded Year</th>\n",
       "      <th>Viewership</th>\n",
       "    </tr>\n",
       "  </thead>\n",
       "  <tbody>\n",
       "    <tr>\n",
       "      <th>0</th>\n",
       "      <td>L001</td>\n",
       "      <td>Premier League</td>\n",
       "      <td>England</td>\n",
       "      <td>Football</td>\n",
       "      <td>5.275330e+09</td>\n",
       "      <td>12080000.0</td>\n",
       "      <td>Liverpool</td>\n",
       "      <td>16</td>\n",
       "      <td>1886</td>\n",
       "      <td>485.90</td>\n",
       "    </tr>\n",
       "    <tr>\n",
       "      <th>1</th>\n",
       "      <td>L002</td>\n",
       "      <td>Serie A</td>\n",
       "      <td>India</td>\n",
       "      <td>American Football</td>\n",
       "      <td>7.088640e+09</td>\n",
       "      <td>6730000.0</td>\n",
       "      <td>Inter Milan</td>\n",
       "      <td>13</td>\n",
       "      <td>1977</td>\n",
       "      <td>135.01</td>\n",
       "    </tr>\n",
       "    <tr>\n",
       "      <th>2</th>\n",
       "      <td>L003</td>\n",
       "      <td>IPL</td>\n",
       "      <td>England</td>\n",
       "      <td>American Football</td>\n",
       "      <td>7.930520e+09</td>\n",
       "      <td>14360000.0</td>\n",
       "      <td>Chennai Super Kings</td>\n",
       "      <td>13</td>\n",
       "      <td>1979</td>\n",
       "      <td>157.49</td>\n",
       "    </tr>\n",
       "    <tr>\n",
       "      <th>3</th>\n",
       "      <td>L004</td>\n",
       "      <td>La Liga</td>\n",
       "      <td>Spain</td>\n",
       "      <td>American Football</td>\n",
       "      <td>4.972890e+09</td>\n",
       "      <td>13720000.0</td>\n",
       "      <td>Atletico Madrid</td>\n",
       "      <td>22</td>\n",
       "      <td>1999</td>\n",
       "      <td>245.71</td>\n",
       "    </tr>\n",
       "    <tr>\n",
       "      <th>4</th>\n",
       "      <td>L005</td>\n",
       "      <td>Serie A</td>\n",
       "      <td>Italy</td>\n",
       "      <td>Basketball</td>\n",
       "      <td>6.265740e+09</td>\n",
       "      <td>7450000.0</td>\n",
       "      <td>Juventus</td>\n",
       "      <td>16</td>\n",
       "      <td>1963</td>\n",
       "      <td>52.83</td>\n",
       "    </tr>\n",
       "  </tbody>\n",
       "</table>\n",
       "</div>"
      ],
      "text/plain": [
       "  League ID     League Name  Country              Sport  Revenue (USD)  \\\n",
       "0      L001  Premier League  England           Football   5.275330e+09   \n",
       "1      L002         Serie A    India  American Football   7.088640e+09   \n",
       "2      L003             IPL  England  American Football   7.930520e+09   \n",
       "3      L004         La Liga    Spain  American Football   4.972890e+09   \n",
       "4      L005         Serie A    Italy         Basketball   6.265740e+09   \n",
       "\n",
       "   Average Player Salary (USD)             Top Team  Total Teams  \\\n",
       "0                   12080000.0            Liverpool           16   \n",
       "1                    6730000.0          Inter Milan           13   \n",
       "2                   14360000.0  Chennai Super Kings           13   \n",
       "3                   13720000.0      Atletico Madrid           22   \n",
       "4                    7450000.0             Juventus           16   \n",
       "\n",
       "   Founded Year  Viewership  \n",
       "0          1886      485.90  \n",
       "1          1977      135.01  \n",
       "2          1979      157.49  \n",
       "3          1999      245.71  \n",
       "4          1963       52.83  "
      ]
     },
     "execution_count": 90,
     "metadata": {},
     "output_type": "execute_result"
    }
   ],
   "source": [
    "League.head()"
   ]
  },
  {
   "cell_type": "code",
   "execution_count": null,
   "id": "16d2bc53-dbcc-4f88-93d3-106e4490e8cb",
   "metadata": {},
   "outputs": [],
   "source": []
  },
  {
   "cell_type": "code",
   "execution_count": 94,
   "id": "40271061-fa07-4fcb-9b9e-d2711f1ac6c3",
   "metadata": {},
   "outputs": [],
   "source": [
    "Correlation = League[['Average Player Salary (USD)','Revenue (USD)']].corr()"
   ]
  },
  {
   "cell_type": "code",
   "execution_count": 96,
   "id": "c7e0b834-1829-4807-b70a-67ef58782744",
   "metadata": {},
   "outputs": [
    {
     "data": {
      "text/html": [
       "<div>\n",
       "<style scoped>\n",
       "    .dataframe tbody tr th:only-of-type {\n",
       "        vertical-align: middle;\n",
       "    }\n",
       "\n",
       "    .dataframe tbody tr th {\n",
       "        vertical-align: top;\n",
       "    }\n",
       "\n",
       "    .dataframe thead th {\n",
       "        text-align: right;\n",
       "    }\n",
       "</style>\n",
       "<table border=\"1\" class=\"dataframe\">\n",
       "  <thead>\n",
       "    <tr style=\"text-align: right;\">\n",
       "      <th></th>\n",
       "      <th>Average Player Salary (USD)</th>\n",
       "      <th>Revenue (USD)</th>\n",
       "    </tr>\n",
       "  </thead>\n",
       "  <tbody>\n",
       "    <tr>\n",
       "      <th>Average Player Salary (USD)</th>\n",
       "      <td>1.000000</td>\n",
       "      <td>-0.017689</td>\n",
       "    </tr>\n",
       "    <tr>\n",
       "      <th>Revenue (USD)</th>\n",
       "      <td>-0.017689</td>\n",
       "      <td>1.000000</td>\n",
       "    </tr>\n",
       "  </tbody>\n",
       "</table>\n",
       "</div>"
      ],
      "text/plain": [
       "                             Average Player Salary (USD)  Revenue (USD)\n",
       "Average Player Salary (USD)                     1.000000      -0.017689\n",
       "Revenue (USD)                                  -0.017689       1.000000"
      ]
     },
     "execution_count": 96,
     "metadata": {},
     "output_type": "execute_result"
    }
   ],
   "source": [
    "Correlation"
   ]
  },
  {
   "cell_type": "code",
   "execution_count": null,
   "id": "da6e5468-c1d4-44fa-89cc-24f6649c7674",
   "metadata": {},
   "outputs": [],
   "source": []
  },
  {
   "cell_type": "code",
   "execution_count": 115,
   "id": "c1282687-b244-4550-94cf-0fa28f75c36e",
   "metadata": {},
   "outputs": [
    {
     "data": {
      "text/plain": [
       "<Axes: xlabel='Average Player Salary (USD)', ylabel='Revenue (USD)'>"
      ]
     },
     "execution_count": 115,
     "metadata": {},
     "output_type": "execute_result"
    },
    {
     "data": {
      "image/png": "[encoded data removed]",
      "text/plain": [
       "<Figure size 640x480 with 1 Axes>"
      ]
     },
     "metadata": {},
     "output_type": "display_data"
    }
   ],
   "source": [
    "sns.scatterplot(x=\"Average Player Salary (USD)\", y=\"Revenue (USD)\", data=League, s=100, color=\"red\", marker=\"o\")"
   ]
  },
  {
   "cell_type": "code",
   "execution_count": null,
   "id": "479cfd6b-0389-49d6-b405-447bbdb18d6f",
   "metadata": {},
   "outputs": [],
   "source": []
  },
  {
   "cell_type": "code",
   "execution_count": null,
   "id": "071d74e4-b91d-43ba-b6af-c686437b297f",
   "metadata": {},
   "outputs": [],
   "source": []
  },
  {
   "cell_type": "markdown",
   "id": "72f4c6d3-d390-4191-b210-63c2976b3e7f",
   "metadata": {},
   "source": [
    "## 3) Which country has the highest number of leagues, and what is the distribution of sports across those leagues?"
   ]
  },
  {
   "cell_type": "code",
   "execution_count": 142,
   "id": "0b62dcc7-68f2-4622-a0a2-2d6868591fe1",
   "metadata": {},
   "outputs": [
    {
     "data": {
      "text/html": [
       "<div>\n",
       "<style scoped>\n",
       "    .dataframe tbody tr th:only-of-type {\n",
       "        vertical-align: middle;\n",
       "    }\n",
       "\n",
       "    .dataframe tbody tr th {\n",
       "        vertical-align: top;\n",
       "    }\n",
       "\n",
       "    .dataframe thead th {\n",
       "        text-align: right;\n",
       "    }\n",
       "</style>\n",
       "<table border=\"1\" class=\"dataframe\">\n",
       "  <thead>\n",
       "    <tr style=\"text-align: right;\">\n",
       "      <th></th>\n",
       "      <th>League ID</th>\n",
       "      <th>League Name</th>\n",
       "      <th>Country</th>\n",
       "      <th>Sport</th>\n",
       "      <th>Revenue (USD)</th>\n",
       "      <th>Average Player Salary (USD)</th>\n",
       "      <th>Top Team</th>\n",
       "      <th>Total Teams</th>\n",
       "      <th>Founded Year</th>\n",
       "      <th>Viewership</th>\n",
       "    </tr>\n",
       "  </thead>\n",
       "  <tbody>\n",
       "    <tr>\n",
       "      <th>0</th>\n",
       "      <td>L001</td>\n",
       "      <td>Premier League</td>\n",
       "      <td>England</td>\n",
       "      <td>Football</td>\n",
       "      <td>5.275330e+09</td>\n",
       "      <td>12080000.0</td>\n",
       "      <td>Liverpool</td>\n",
       "      <td>16</td>\n",
       "      <td>1886</td>\n",
       "      <td>485.90</td>\n",
       "    </tr>\n",
       "    <tr>\n",
       "      <th>1</th>\n",
       "      <td>L002</td>\n",
       "      <td>Serie A</td>\n",
       "      <td>India</td>\n",
       "      <td>American Football</td>\n",
       "      <td>7.088640e+09</td>\n",
       "      <td>6730000.0</td>\n",
       "      <td>Inter Milan</td>\n",
       "      <td>13</td>\n",
       "      <td>1977</td>\n",
       "      <td>135.01</td>\n",
       "    </tr>\n",
       "    <tr>\n",
       "      <th>2</th>\n",
       "      <td>L003</td>\n",
       "      <td>IPL</td>\n",
       "      <td>England</td>\n",
       "      <td>American Football</td>\n",
       "      <td>7.930520e+09</td>\n",
       "      <td>14360000.0</td>\n",
       "      <td>Chennai Super Kings</td>\n",
       "      <td>13</td>\n",
       "      <td>1979</td>\n",
       "      <td>157.49</td>\n",
       "    </tr>\n",
       "    <tr>\n",
       "      <th>3</th>\n",
       "      <td>L004</td>\n",
       "      <td>La Liga</td>\n",
       "      <td>Spain</td>\n",
       "      <td>American Football</td>\n",
       "      <td>4.972890e+09</td>\n",
       "      <td>13720000.0</td>\n",
       "      <td>Atletico Madrid</td>\n",
       "      <td>22</td>\n",
       "      <td>1999</td>\n",
       "      <td>245.71</td>\n",
       "    </tr>\n",
       "    <tr>\n",
       "      <th>4</th>\n",
       "      <td>L005</td>\n",
       "      <td>Serie A</td>\n",
       "      <td>Italy</td>\n",
       "      <td>Basketball</td>\n",
       "      <td>6.265740e+09</td>\n",
       "      <td>7450000.0</td>\n",
       "      <td>Juventus</td>\n",
       "      <td>16</td>\n",
       "      <td>1963</td>\n",
       "      <td>52.83</td>\n",
       "    </tr>\n",
       "  </tbody>\n",
       "</table>\n",
       "</div>"
      ],
      "text/plain": [
       "  League ID     League Name  Country              Sport  Revenue (USD)  \\\n",
       "0      L001  Premier League  England           Football   5.275330e+09   \n",
       "1      L002         Serie A    India  American Football   7.088640e+09   \n",
       "2      L003             IPL  England  American Football   7.930520e+09   \n",
       "3      L004         La Liga    Spain  American Football   4.972890e+09   \n",
       "4      L005         Serie A    Italy         Basketball   6.265740e+09   \n",
       "\n",
       "   Average Player Salary (USD)             Top Team  Total Teams  \\\n",
       "0                   12080000.0            Liverpool           16   \n",
       "1                    6730000.0          Inter Milan           13   \n",
       "2                   14360000.0  Chennai Super Kings           13   \n",
       "3                   13720000.0      Atletico Madrid           22   \n",
       "4                    7450000.0             Juventus           16   \n",
       "\n",
       "   Founded Year  Viewership  \n",
       "0          1886      485.90  \n",
       "1          1977      135.01  \n",
       "2          1979      157.49  \n",
       "3          1999      245.71  \n",
       "4          1963       52.83  "
      ]
     },
     "execution_count": 142,
     "metadata": {},
     "output_type": "execute_result"
    }
   ],
   "source": [
    "League.head()"
   ]
  },
  {
   "cell_type": "code",
   "execution_count": null,
   "id": "a330d67d-9a09-45fe-82e0-66838c7ab69c",
   "metadata": {},
   "outputs": [],
   "source": []
  },
  {
   "cell_type": "code",
   "execution_count": 144,
   "id": "88ab73a7-b536-40b0-8737-913c2470f235",
   "metadata": {},
   "outputs": [],
   "source": [
    "top_country = country_league_counts.idxmax()"
   ]
  },
  {
   "cell_type": "code",
   "execution_count": 146,
   "id": "5a1eaf7f-3867-4b4e-9fab-e915e7603393",
   "metadata": {},
   "outputs": [
    {
     "data": {
      "text/plain": [
       "'India'"
      ]
     },
     "execution_count": 146,
     "metadata": {},
     "output_type": "execute_result"
    }
   ],
   "source": [
    "top_country"
   ]
  },
  {
   "cell_type": "code",
   "execution_count": 148,
   "id": "59dd1add-4bd4-4daa-8a35-0dc143a943eb",
   "metadata": {},
   "outputs": [],
   "source": [
    "top_country_count = country_league_counts.max()"
   ]
  },
  {
   "cell_type": "code",
   "execution_count": 150,
   "id": "53f46965-4f5f-4a14-ab91-a3671a5713e4",
   "metadata": {},
   "outputs": [
    {
     "data": {
      "text/plain": [
       "108"
      ]
     },
     "execution_count": 150,
     "metadata": {},
     "output_type": "execute_result"
    }
   ],
   "source": [
    "top_country_count"
   ]
  },
  {
   "cell_type": "code",
   "execution_count": 152,
   "id": "dd0b7c3f-79cd-4634-b054-939c07f725c9",
   "metadata": {},
   "outputs": [
    {
     "name": "stdout",
     "output_type": "stream",
     "text": [
      "The country with the highest number of leagues is: India (108 leagues).\n"
     ]
    }
   ],
   "source": [
    "print(f\"The country with the highest number of leagues is: {top_country} ({top_country_count} leagues).\")"
   ]
  },
  {
   "cell_type": "code",
   "execution_count": null,
   "id": "eed51961-bafa-48b6-95e1-b06722b086a3",
   "metadata": {},
   "outputs": [],
   "source": []
  },
  {
   "cell_type": "code",
   "execution_count": 154,
   "id": "c741e992-324f-4d4c-8d4f-a59bbe48ac1b",
   "metadata": {},
   "outputs": [],
   "source": [
    "top_country_sports = df[df[\"Country\"] == top_country][\"Sport\"].value_counts()"
   ]
  },
  {
   "cell_type": "code",
   "execution_count": 156,
   "id": "6c8c89f3-5f60-47bc-a245-ab87e4a199b2",
   "metadata": {},
   "outputs": [
    {
     "data": {
      "text/plain": [
       "Sport\n",
       "Cricket              31\n",
       "Football             29\n",
       "Basketball           25\n",
       "American Football    23\n",
       "Name: count, dtype: int64"
      ]
     },
     "execution_count": 156,
     "metadata": {},
     "output_type": "execute_result"
    }
   ],
   "source": [
    "top_country_sports"
   ]
  },
  {
   "cell_type": "code",
   "execution_count": 232,
   "id": "1b8c0f20-5c18-4e63-b022-61902a74eca6",
   "metadata": {},
   "outputs": [
    {
     "data": {
      "text/plain": [
       "<Axes: xlabel='Sport', ylabel='count'>"
      ]
     },
     "execution_count": 232,
     "metadata": {},
     "output_type": "execute_result"
    },
    {
     "data": {
      "image/png": "[encoded data removed]",
      "text/plain": [
       "<Figure size 640x480 with 1 Axes>"
      ]
     },
     "metadata": {},
     "output_type": "display_data"
    }
   ],
   "source": [
    "sns.barplot(data=top_country_sports,color=\"green\")"
   ]
  },
  {
   "cell_type": "code",
   "execution_count": null,
   "id": "493ef2b9-01b0-45ce-a966-c10454be04e8",
   "metadata": {},
   "outputs": [],
   "source": []
  },
  {
   "cell_type": "markdown",
   "id": "ef39df71-d3f7-4d3b-9f29-71db2740eb94",
   "metadata": {},
   "source": [
    "## 4) How has the founding year of leagues influenced their viewership and revenue in modern times?"
   ]
  },
  {
   "cell_type": "code",
   "execution_count": null,
   "id": "cad4b6dd-e8a7-4f1b-ab86-627f1f9172a0",
   "metadata": {},
   "outputs": [],
   "source": []
  },
  {
   "cell_type": "code",
   "execution_count": 171,
   "id": "349a1e1d-6bc6-4c65-927e-23bf0991da4a",
   "metadata": {},
   "outputs": [
    {
     "data": {
      "text/html": [
       "<div>\n",
       "<style scoped>\n",
       "    .dataframe tbody tr th:only-of-type {\n",
       "        vertical-align: middle;\n",
       "    }\n",
       "\n",
       "    .dataframe tbody tr th {\n",
       "        vertical-align: top;\n",
       "    }\n",
       "\n",
       "    .dataframe thead th {\n",
       "        text-align: right;\n",
       "    }\n",
       "</style>\n",
       "<table border=\"1\" class=\"dataframe\">\n",
       "  <thead>\n",
       "    <tr style=\"text-align: right;\">\n",
       "      <th></th>\n",
       "      <th>League ID</th>\n",
       "      <th>League Name</th>\n",
       "      <th>Country</th>\n",
       "      <th>Sport</th>\n",
       "      <th>Revenue (USD)</th>\n",
       "      <th>Average Player Salary (USD)</th>\n",
       "      <th>Top Team</th>\n",
       "      <th>Total Teams</th>\n",
       "      <th>Founded Year</th>\n",
       "      <th>Viewership</th>\n",
       "    </tr>\n",
       "  </thead>\n",
       "  <tbody>\n",
       "    <tr>\n",
       "      <th>0</th>\n",
       "      <td>L001</td>\n",
       "      <td>Premier League</td>\n",
       "      <td>England</td>\n",
       "      <td>Football</td>\n",
       "      <td>5.275330e+09</td>\n",
       "      <td>12080000.0</td>\n",
       "      <td>Liverpool</td>\n",
       "      <td>16</td>\n",
       "      <td>1886</td>\n",
       "      <td>485.90</td>\n",
       "    </tr>\n",
       "    <tr>\n",
       "      <th>1</th>\n",
       "      <td>L002</td>\n",
       "      <td>Serie A</td>\n",
       "      <td>India</td>\n",
       "      <td>American Football</td>\n",
       "      <td>7.088640e+09</td>\n",
       "      <td>6730000.0</td>\n",
       "      <td>Inter Milan</td>\n",
       "      <td>13</td>\n",
       "      <td>1977</td>\n",
       "      <td>135.01</td>\n",
       "    </tr>\n",
       "    <tr>\n",
       "      <th>2</th>\n",
       "      <td>L003</td>\n",
       "      <td>IPL</td>\n",
       "      <td>England</td>\n",
       "      <td>American Football</td>\n",
       "      <td>7.930520e+09</td>\n",
       "      <td>14360000.0</td>\n",
       "      <td>Chennai Super Kings</td>\n",
       "      <td>13</td>\n",
       "      <td>1979</td>\n",
       "      <td>157.49</td>\n",
       "    </tr>\n",
       "    <tr>\n",
       "      <th>3</th>\n",
       "      <td>L004</td>\n",
       "      <td>La Liga</td>\n",
       "      <td>Spain</td>\n",
       "      <td>American Football</td>\n",
       "      <td>4.972890e+09</td>\n",
       "      <td>13720000.0</td>\n",
       "      <td>Atletico Madrid</td>\n",
       "      <td>22</td>\n",
       "      <td>1999</td>\n",
       "      <td>245.71</td>\n",
       "    </tr>\n",
       "    <tr>\n",
       "      <th>4</th>\n",
       "      <td>L005</td>\n",
       "      <td>Serie A</td>\n",
       "      <td>Italy</td>\n",
       "      <td>Basketball</td>\n",
       "      <td>6.265740e+09</td>\n",
       "      <td>7450000.0</td>\n",
       "      <td>Juventus</td>\n",
       "      <td>16</td>\n",
       "      <td>1963</td>\n",
       "      <td>52.83</td>\n",
       "    </tr>\n",
       "  </tbody>\n",
       "</table>\n",
       "</div>"
      ],
      "text/plain": [
       "  League ID     League Name  Country              Sport  Revenue (USD)  \\\n",
       "0      L001  Premier League  England           Football   5.275330e+09   \n",
       "1      L002         Serie A    India  American Football   7.088640e+09   \n",
       "2      L003             IPL  England  American Football   7.930520e+09   \n",
       "3      L004         La Liga    Spain  American Football   4.972890e+09   \n",
       "4      L005         Serie A    Italy         Basketball   6.265740e+09   \n",
       "\n",
       "   Average Player Salary (USD)             Top Team  Total Teams  \\\n",
       "0                   12080000.0            Liverpool           16   \n",
       "1                    6730000.0          Inter Milan           13   \n",
       "2                   14360000.0  Chennai Super Kings           13   \n",
       "3                   13720000.0      Atletico Madrid           22   \n",
       "4                    7450000.0             Juventus           16   \n",
       "\n",
       "   Founded Year  Viewership  \n",
       "0          1886      485.90  \n",
       "1          1977      135.01  \n",
       "2          1979      157.49  \n",
       "3          1999      245.71  \n",
       "4          1963       52.83  "
      ]
     },
     "execution_count": 171,
     "metadata": {},
     "output_type": "execute_result"
    }
   ],
   "source": [
    "League.head()"
   ]
  },
  {
   "cell_type": "code",
   "execution_count": null,
   "id": "fd185d45-a474-43de-8ed9-9c3cfc427b15",
   "metadata": {},
   "outputs": [],
   "source": []
  },
  {
   "cell_type": "code",
   "execution_count": 175,
   "id": "029614d4-faad-47d4-8123-85a7547028a9",
   "metadata": {},
   "outputs": [],
   "source": [
    "A=League['Founded Year'].corr(League['Viewership'])"
   ]
  },
  {
   "cell_type": "code",
   "execution_count": 177,
   "id": "b7cc8d30-8a98-42be-93ca-6e900207bc2a",
   "metadata": {},
   "outputs": [
    {
     "data": {
      "text/plain": [
       "-0.0006511718306314332"
      ]
     },
     "execution_count": 177,
     "metadata": {},
     "output_type": "execute_result"
    }
   ],
   "source": [
    "A"
   ]
  },
  {
   "cell_type": "code",
   "execution_count": 179,
   "id": "58d9a2c3-8ef0-47bc-9833-c4f075b5d888",
   "metadata": {},
   "outputs": [],
   "source": [
    "B=League['Founded Year'].corr(League['Revenue (USD)'])"
   ]
  },
  {
   "cell_type": "code",
   "execution_count": 181,
   "id": "085b43d1-9c51-40a7-80e0-7f065636832b",
   "metadata": {},
   "outputs": [
    {
     "data": {
      "text/plain": [
       "0.04800947431110197"
      ]
     },
     "execution_count": 181,
     "metadata": {},
     "output_type": "execute_result"
    }
   ],
   "source": [
    "B"
   ]
  },
  {
   "cell_type": "code",
   "execution_count": null,
   "id": "d6dd481d-c9f7-443b-9757-1623b3f3e4df",
   "metadata": {},
   "outputs": [],
   "source": []
  },
  {
   "cell_type": "markdown",
   "id": "926745e7-116a-44a1-b863-9cfb6e3f2a3e",
   "metadata": {},
   "source": [
    "## 5) What is the average viewership of leagues grouped by sport type, and which sport has the highest average viewership?"
   ]
  },
  {
   "cell_type": "code",
   "execution_count": null,
   "id": "c45e8bb1-7277-4e77-a546-3985c43b2cbe",
   "metadata": {},
   "outputs": [],
   "source": []
  },
  {
   "cell_type": "code",
   "execution_count": 204,
   "id": "47cb12fd-d6c5-4eb7-81aa-f8b5f43e55aa",
   "metadata": {},
   "outputs": [
    {
     "data": {
      "text/html": [
       "<div>\n",
       "<style scoped>\n",
       "    .dataframe tbody tr th:only-of-type {\n",
       "        vertical-align: middle;\n",
       "    }\n",
       "\n",
       "    .dataframe tbody tr th {\n",
       "        vertical-align: top;\n",
       "    }\n",
       "\n",
       "    .dataframe thead th {\n",
       "        text-align: right;\n",
       "    }\n",
       "</style>\n",
       "<table border=\"1\" class=\"dataframe\">\n",
       "  <thead>\n",
       "    <tr style=\"text-align: right;\">\n",
       "      <th></th>\n",
       "      <th>League ID</th>\n",
       "      <th>League Name</th>\n",
       "      <th>Country</th>\n",
       "      <th>Sport</th>\n",
       "      <th>Revenue (USD)</th>\n",
       "      <th>Average Player Salary (USD)</th>\n",
       "      <th>Top Team</th>\n",
       "      <th>Total Teams</th>\n",
       "      <th>Founded Year</th>\n",
       "      <th>Viewership</th>\n",
       "    </tr>\n",
       "  </thead>\n",
       "  <tbody>\n",
       "    <tr>\n",
       "      <th>0</th>\n",
       "      <td>L001</td>\n",
       "      <td>Premier League</td>\n",
       "      <td>England</td>\n",
       "      <td>Football</td>\n",
       "      <td>5.275330e+09</td>\n",
       "      <td>12080000.0</td>\n",
       "      <td>Liverpool</td>\n",
       "      <td>16</td>\n",
       "      <td>1886</td>\n",
       "      <td>485.90</td>\n",
       "    </tr>\n",
       "    <tr>\n",
       "      <th>1</th>\n",
       "      <td>L002</td>\n",
       "      <td>Serie A</td>\n",
       "      <td>India</td>\n",
       "      <td>American Football</td>\n",
       "      <td>7.088640e+09</td>\n",
       "      <td>6730000.0</td>\n",
       "      <td>Inter Milan</td>\n",
       "      <td>13</td>\n",
       "      <td>1977</td>\n",
       "      <td>135.01</td>\n",
       "    </tr>\n",
       "    <tr>\n",
       "      <th>2</th>\n",
       "      <td>L003</td>\n",
       "      <td>IPL</td>\n",
       "      <td>England</td>\n",
       "      <td>American Football</td>\n",
       "      <td>7.930520e+09</td>\n",
       "      <td>14360000.0</td>\n",
       "      <td>Chennai Super Kings</td>\n",
       "      <td>13</td>\n",
       "      <td>1979</td>\n",
       "      <td>157.49</td>\n",
       "    </tr>\n",
       "    <tr>\n",
       "      <th>3</th>\n",
       "      <td>L004</td>\n",
       "      <td>La Liga</td>\n",
       "      <td>Spain</td>\n",
       "      <td>American Football</td>\n",
       "      <td>4.972890e+09</td>\n",
       "      <td>13720000.0</td>\n",
       "      <td>Atletico Madrid</td>\n",
       "      <td>22</td>\n",
       "      <td>1999</td>\n",
       "      <td>245.71</td>\n",
       "    </tr>\n",
       "    <tr>\n",
       "      <th>4</th>\n",
       "      <td>L005</td>\n",
       "      <td>Serie A</td>\n",
       "      <td>Italy</td>\n",
       "      <td>Basketball</td>\n",
       "      <td>6.265740e+09</td>\n",
       "      <td>7450000.0</td>\n",
       "      <td>Juventus</td>\n",
       "      <td>16</td>\n",
       "      <td>1963</td>\n",
       "      <td>52.83</td>\n",
       "    </tr>\n",
       "  </tbody>\n",
       "</table>\n",
       "</div>"
      ],
      "text/plain": [
       "  League ID     League Name  Country              Sport  Revenue (USD)  \\\n",
       "0      L001  Premier League  England           Football   5.275330e+09   \n",
       "1      L002         Serie A    India  American Football   7.088640e+09   \n",
       "2      L003             IPL  England  American Football   7.930520e+09   \n",
       "3      L004         La Liga    Spain  American Football   4.972890e+09   \n",
       "4      L005         Serie A    Italy         Basketball   6.265740e+09   \n",
       "\n",
       "   Average Player Salary (USD)             Top Team  Total Teams  \\\n",
       "0                   12080000.0            Liverpool           16   \n",
       "1                    6730000.0          Inter Milan           13   \n",
       "2                   14360000.0  Chennai Super Kings           13   \n",
       "3                   13720000.0      Atletico Madrid           22   \n",
       "4                    7450000.0             Juventus           16   \n",
       "\n",
       "   Founded Year  Viewership  \n",
       "0          1886      485.90  \n",
       "1          1977      135.01  \n",
       "2          1979      157.49  \n",
       "3          1999      245.71  \n",
       "4          1963       52.83  "
      ]
     },
     "execution_count": 204,
     "metadata": {},
     "output_type": "execute_result"
    }
   ],
   "source": [
    "League.head()"
   ]
  },
  {
   "cell_type": "code",
   "execution_count": null,
   "id": "1245e0ae-c48c-4697-8264-f47c90cb9e38",
   "metadata": {},
   "outputs": [],
   "source": []
  },
  {
   "cell_type": "code",
   "execution_count": 206,
   "id": "612d9c8e-9185-4070-9d80-a2810d2f83d3",
   "metadata": {},
   "outputs": [],
   "source": [
    "Average_viewership = League.groupby(\"Sport\")[\"Viewership\"].mean()"
   ]
  },
  {
   "cell_type": "code",
   "execution_count": 208,
   "id": "1cb7eca2-82d1-4fbe-8dc6-08d71761c2ed",
   "metadata": {},
   "outputs": [
    {
     "data": {
      "text/plain": [
       "Sport\n",
       "American Football    240.931636\n",
       "Basketball           242.329769\n",
       "Cricket              256.344368\n",
       "Football             281.278670\n",
       "Name: Viewership, dtype: float64"
      ]
     },
     "execution_count": 208,
     "metadata": {},
     "output_type": "execute_result"
    }
   ],
   "source": [
    "Average_viewership"
   ]
  },
  {
   "cell_type": "code",
   "execution_count": 216,
   "id": "c1855713-6086-4065-9c6e-346832fafe92",
   "metadata": {},
   "outputs": [],
   "source": [
    "highest_sport = Average_viewership.idxmax()"
   ]
  },
  {
   "cell_type": "code",
   "execution_count": 220,
   "id": "c948bf3c-3e07-48bd-81ba-973471e42b63",
   "metadata": {},
   "outputs": [
    {
     "data": {
      "text/plain": [
       "'Football'"
      ]
     },
     "execution_count": 220,
     "metadata": {},
     "output_type": "execute_result"
    }
   ],
   "source": [
    "highest_sport"
   ]
  },
  {
   "cell_type": "code",
   "execution_count": 224,
   "id": "1ecf3f7c-582f-439d-b087-7efbf1945417",
   "metadata": {},
   "outputs": [],
   "source": [
    "Highest_viewership = Average_viewership.max()"
   ]
  },
  {
   "cell_type": "code",
   "execution_count": 226,
   "id": "83e087d0-7953-4e4a-b932-86a853e296b0",
   "metadata": {},
   "outputs": [
    {
     "data": {
      "text/plain": [
       "281.278670212766"
      ]
     },
     "execution_count": 226,
     "metadata": {},
     "output_type": "execute_result"
    }
   ],
   "source": [
    "Highest_viewership"
   ]
  },
  {
   "cell_type": "code",
   "execution_count": null,
   "id": "7cdae3c9-787d-450e-b158-2b95a1b3ad50",
   "metadata": {},
   "outputs": [],
   "source": []
  },
  {
   "cell_type": "code",
   "execution_count": 240,
   "id": "b168ea29-c2db-40ad-af42-9c627cba3a83",
   "metadata": {},
   "outputs": [
    {
     "data": {
      "text/plain": [
       "<Axes: xlabel='Sport', ylabel='Viewership'>"
      ]
     },
     "execution_count": 240,
     "metadata": {},
     "output_type": "execute_result"
    },
    {
     "data": {
      "image/png": "[encoded data removed]",
      "text/plain": [
       "<Figure size 640x480 with 1 Axes>"
      ]
     },
     "metadata": {},
     "output_type": "display_data"
    }
   ],
   "source": [
    "sns.barplot(data=Average_viewership,color=\"green\")"
   ]
  },
  {
   "cell_type": "code",
   "execution_count": null,
   "id": "c9d264c4-625b-4c64-b96c-f24d9be79ec5",
   "metadata": {},
   "outputs": [],
   "source": []
  }
 ],
 "metadata": {
  "kernelspec": {
   "display_name": "Python 3 (ipykernel)",
   "language": "python",
   "name": "python3"
  },
  "language_info": {
   "codemirror_mode": {
    "name": "ipython",
    "version": 3
   },
   "file_extension": ".py",
   "mimetype": "text/x-python",
   "name": "python",
   "nbconvert_exporter": "python",
   "pygments_lexer": "ipython3",
   "version": "3.12.4"
  }
 },
 "nbformat": 4,
 "nbformat_minor": 5
}
